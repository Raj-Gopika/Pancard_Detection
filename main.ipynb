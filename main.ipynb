{
  "nbformat": 4,
  "nbformat_minor": 0,
  "metadata": {
    "colab": {
      "provenance": [],
      "authorship_tag": "ABX9TyPcG/CZwE8A2PJTbI1tYMq4",
      "include_colab_link": true
    },
    "kernelspec": {
      "name": "python3",
      "display_name": "Python 3"
    },
    "language_info": {
      "name": "python"
    }
  },
  "cells": [
    {
      "cell_type": "markdown",
      "metadata": {
        "id": "view-in-github",
        "colab_type": "text"
      },
      "source": [
        "<a href=\"https://colab.research.google.com/github/Raj-Gopika/Pancard_Detection/blob/main/main.ipynb\" target=\"_parent\"><img src=\"https://colab.research.google.com/assets/colab-badge.svg\" alt=\"Open In Colab\"/></a>"
      ]
    },
    {
      "cell_type": "markdown",
      "source": [
        "# Pan Card Tampering Detection using Computer vision"
      ],
      "metadata": {
        "id": "PUK7RDazCxoN"
      }
    },
    {
      "cell_type": "markdown",
      "source": [
        "The purpose of this project is to detect tampering of PAN card using computer vision.\n",
        "\n",
        "This project will help different organization in detecting whether the Id i.e the PAN card provided to them by thier employees or customers or anyone is original or not."
      ],
      "metadata": {
        "id": "06V4OWniC71D"
      }
    },
    {
      "cell_type": "markdown",
      "source": [
        "#### For this project we will calculate structural similarity of original PAN card and the PAN card uploaded by user."
      ],
      "metadata": {
        "id": "--WPBASYFJ92"
      }
    },
    {
      "cell_type": "code",
      "execution_count": null,
      "metadata": {
        "id": "nB8CZT59CweD"
      },
      "outputs": [],
      "source": [
        "#import all necessary libs\n",
        "from skimage.metrics import structural_similarity\n",
        "import imutils\n",
        "import cv2\n",
        "from PIL import Image\n",
        "import requests"
      ]
    },
    {
      "cell_type": "code",
      "source": [
        "#make folder to store the tampered images\n",
        "!mkdir pan_card_tampering\n",
        "!mkdir pan_card_tampering/images"
      ],
      "metadata": {
        "id": "8Fqy905THb1R"
      },
      "execution_count": 5,
      "outputs": []
    },
    {
      "cell_type": "code",
      "source": [
        "# open image and display\n",
        "original = Image.open(requests.get('https://www.thestatesman.com/wp-content/uploads/2019/07/pan-card.jpg', stream=True).raw)\n",
        "tampered = Image.open(requests.get('https://assets1.cleartax-cdn.com/s/img/20170526124335/Pan4.png', stream=True).raw)"
      ],
      "metadata": {
        "id": "0B68_5T6IGEp"
      },
      "execution_count": 6,
      "outputs": []
    },
    {
      "cell_type": "markdown",
      "source": [
        "#### Loading original and user provided images."
      ],
      "metadata": {
        "id": "qQMgkM92JIw9"
      }
    },
    {
      "cell_type": "code",
      "source": [
        "#format\n",
        "print('Original format:',original.format)\n",
        "print('Tampered format:',tampered.format)\n",
        "\n",
        "#size in pixels\n",
        "print('Original size:',original.size)\n",
        "print('Tampered size:',tampered.size)\n",
        "\n",
        "#mode\n",
        "print('Original mode:',original.mode)\n",
        "print('Tampered mode:',tampered.mode)"
      ],
      "metadata": {
        "colab": {
          "base_uri": "https://localhost:8080/"
        },
        "id": "nBrZ0G4cJJ08",
        "outputId": "7fd9f98b-73df-4ec6-cb20-ee9dc2614f5d"
      },
      "execution_count": 7,
      "outputs": [
        {
          "output_type": "stream",
          "name": "stdout",
          "text": [
            "Original format: JPEG\n",
            "Tampered format: PNG\n",
            "Original size: (1200, 800)\n",
            "Tampered size: (282, 179)\n",
            "Original mode: RGB\n",
            "Tampered mode: RGBA\n"
          ]
        }
      ]
    }
  ]
}