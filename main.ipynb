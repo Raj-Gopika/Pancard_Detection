{
  "nbformat": 4,
  "nbformat_minor": 0,
  "metadata": {
    "colab": {
      "provenance": [],
      "authorship_tag": "ABX9TyMeuAgOiry1u2A2r6keu+SN",
      "include_colab_link": true
    },
    "kernelspec": {
      "name": "python3",
      "display_name": "Python 3"
    },
    "language_info": {
      "name": "python"
    }
  },
  "cells": [
    {
      "cell_type": "markdown",
      "metadata": {
        "id": "view-in-github",
        "colab_type": "text"
      },
      "source": [
        "<a href=\"https://colab.research.google.com/github/Raj-Gopika/Pancard_Detection/blob/main/main.ipynb\" target=\"_parent\"><img src=\"https://colab.research.google.com/assets/colab-badge.svg\" alt=\"Open In Colab\"/></a>"
      ]
    },
    {
      "cell_type": "markdown",
      "source": [
        "# Pan Card Tampering Detection using Computer vision"
      ],
      "metadata": {
        "id": "PUK7RDazCxoN"
      }
    },
    {
      "cell_type": "markdown",
      "source": [
        "The purpose of this project is to detect tampering of PAN card using computer vision.\n",
        "\n",
        "This project will help different organization in detecting whether the Id i.e the PAN card provided to them by thier employees or customers or anyone is original or not."
      ],
      "metadata": {
        "id": "06V4OWniC71D"
      }
    },
    {
      "cell_type": "markdown",
      "source": [
        "#### For this project we will calculate structural similarity of original PAN card and the PAN card uploaded by user."
      ],
      "metadata": {
        "id": "--WPBASYFJ92"
      }
    },
    {
      "cell_type": "code",
      "execution_count": null,
      "metadata": {
        "id": "nB8CZT59CweD"
      },
      "outputs": [],
      "source": []
    }
  ]
}